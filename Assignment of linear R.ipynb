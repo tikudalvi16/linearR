{
 "cells": [
  {
   "cell_type": "code",
   "execution_count": null,
   "metadata": {},
   "outputs": [],
   "source": [
    "what is Regression?\n",
    "\n",
    "It is supervised technique\n",
    "Regression model are used to continues value or numeric value predict.\n",
    "Regression ids the process of pridicting the labelled data"
   ]
  },
  {
   "cell_type": "code",
   "execution_count": null,
   "metadata": {},
   "outputs": [],
   "source": [
    "what is linear Regression?\n",
    "\n",
    "It comes under the supervised learning approach\n",
    "Linear regression perform the task to predict a dependent variable value based on a given independent variabl\n",
    "This regression technique find out the linear relationship between input and output.\n",
    "It is based on equation of straigh line {y=m*x+c+e}"
   ]
  },
  {
   "cell_type": "code",
   "execution_count": null,
   "metadata": {},
   "outputs": [],
   "source": [
    "When we use linear regression? Explain the equation of straight line.\n",
    "\n",
    "Linear regression use when we want to predict the value of a variable based on the value of another variable.\n",
    "It is used to solve such regression type of problem in machine learning.\n",
    "It is used help in finding the correlationn between variable and enable us to predict the continuos output variable\n",
    "\n",
    "The equation od straigh line is y=m*x+c+e\n",
    "where, m is the slop of the line,\n",
    "e is the error,\n",
    "c is the intercept of the line."
   ]
  },
  {
   "cell_type": "code",
   "execution_count": null,
   "metadata": {},
   "outputs": [],
   "source": [
    "What kind of plots will you use to showcase the relationship amongst the columns?\n",
    "\n",
    " We use the Scatterplots to showcase the relationship amongst the columns"
   ]
  },
  {
   "cell_type": "code",
   "execution_count": null,
   "metadata": {},
   "outputs": [],
   "source": [
    "how is the best fit line chosen?\n",
    "\n",
    "This is used to predict the value something\n",
    "Line of best fit is always passes throw dence area and it is alwyas in straigh"
   ]
  },
  {
   "cell_type": "code",
   "execution_count": null,
   "metadata": {},
   "outputs": [],
   "source": [
    "What is gradient descent, and why is it used? Explain the maths.\n",
    "\n",
    " Gradient descent makes use of derivative it is used to find out the minima error"
   ]
  },
  {
   "cell_type": "code",
   "execution_count": null,
   "metadata": {},
   "outputs": [],
   "source": [
    "what is residual?\n",
    "\n",
    "Residual is nothing but error\n",
    "The difference between the original value and the predicted value is called as residual or error"
   ]
  },
  {
   "cell_type": "code",
   "execution_count": null,
   "metadata": {},
   "outputs": [],
   "source": [
    "What is correlation?\n",
    "\n",
    "  Correlation is an indication about the changes between two variables \n",
    "    We can plot correlation matrix to shoe which variable is having a high or low\n",
    "    correlation in respect to another variable."
   ]
  },
  {
   "cell_type": "code",
   "execution_count": null,
   "metadata": {},
   "outputs": [],
   "source": [
    "What is multicollinearity?\n",
    "\n",
    " One independent coloum is depend on another independent colum"
   ]
  },
  {
   "cell_type": "code",
   "execution_count": null,
   "metadata": {},
   "outputs": [],
   "source": [
    "How to detect multicollinearity?\n",
    "  \n",
    "    by using correlation matrix(haetmap) and variance inflation factor"
   ]
  },
  {
   "cell_type": "code",
   "execution_count": null,
   "metadata": {},
   "outputs": [],
   "source": [
    "What are the remedies for multicollinearity?\n",
    "\n",
    " a) Remove the coloums\n",
    " b) combine the colums\n",
    " c) do nothing\n",
    " d) principle component analysis"
   ]
  },
  {
   "cell_type": "code",
   "execution_count": null,
   "metadata": {},
   "outputs": [],
   "source": [
    "What is the R-Squared Statistics?\n",
    "\n",
    "    R means residual or error\n",
    "    R squared is a statistical measure that represents fit of a regression model \n",
    "    It is also know as the coeffient of determination \n",
    "    we want to check what is the accuracy of model by using R squared staticts."
   ]
  },
  {
   "cell_type": "code",
   "execution_count": null,
   "metadata": {},
   "outputs": [],
   "source": [
    "What is an adjusted R-Squared Statistics?\n",
    "\n",
    "  Adjusted R - squared statistics increases only when independent variable is significant\n",
    "and affects dependent variable.\n",
    "  Adjusted R - squared value is always be less than or equal to r-squared value."
   ]
  },
  {
   "cell_type": "code",
   "execution_count": null,
   "metadata": {},
   "outputs": [],
   "source": [
    "Why do we use adj R-squared?\n",
    " \n",
    "    Adjusted R square is used to determine how reliable the correlation is and how much \n",
    "    it is determined by the addition of independent variable."
   ]
  },
  {
   "cell_type": "code",
   "execution_count": null,
   "metadata": {},
   "outputs": [],
   "source": [
    "Why adj R-squared decreases when we use incompetent variables?\n",
    "\n",
    "   The adj R-squared is a modified version of R-square that has been adj for the number of prediction \n",
    "    in the model. The adj R-sqaured increases only if the new term improves the model mpre than would\n",
    "    be expected by chance"
   ]
  },
  {
   "cell_type": "code",
   "execution_count": null,
   "metadata": {},
   "outputs": [],
   "source": [
    "What is the difference between fit, fit_transform and predict methods?\n",
    "\n",
    "  fit:- It calculates the parameters on training data and saves them as an internal obj state.\n",
    "fit_transform:- It joins the fit and transformation of the data set.It is used on scale the\n",
    "traning data and learn the scaling parameters.\n",
    "predict:- It is used to calculate weight on test data to make the predictions"
   ]
  },
  {
   "cell_type": "code",
   "execution_count": null,
   "metadata": {},
   "outputs": [],
   "source": [
    "What are Bias and Variance? What is Bias Variance Trade-off?\n",
    " \n",
    "    Bias :- the model which gives you perticular results means it ts store perticular results.\n",
    "        it can be minimized by traning with more data.\n",
    "    Variance :- Sqaure of standard deviation it is can be reduce by using regularization\n",
    "        \n",
    "Bias Variance Trade-off:-Variance is a measure of the degree of the spread of the predicted results. \n",
    "    Bias on the other hand is a measure of the polarity of the results.\n",
    "    If the bias decreases the variance increases. So we need to find a balance\n",
    "    so that we get a model which has low variance as well as low bias."
   ]
  },
  {
   "cell_type": "code",
   "execution_count": null,
   "metadata": {},
   "outputs": [],
   "source": [
    "What is the null and alternate hypothesis?\n",
    "\n",
    "   Null hypothesis means well accepted or default cases.\n",
    "   It is repesent as H0\n",
    " \n",
    "   Alternate hypothesis is opposite to null hypothesis\n",
    "   It is denoted by Ha"
   ]
  },
  {
   "cell_type": "code",
   "execution_count": null,
   "metadata": {},
   "outputs": [],
   "source": [
    "What is multiple linear regression?\n",
    "\n",
    "    Multiple linear regreesion means the one or more independent varible present\n",
    "    and only one dependent variable present in dataset\n",
    "     𝑦=B0+B1𝑥1+...+B𝑛𝑥𝑛"
   ]
  },
  {
   "cell_type": "code",
   "execution_count": null,
   "metadata": {},
   "outputs": [],
   "source": [
    "What is the OLS method? Derive the formulae used in the OLS method.\n",
    "   \n",
    "    Ordinary least square it is a statical method of analysis\n",
    "    that estimate the relation ship between one or more independent variable and dependent variable\n",
    "    and also minimize the sum of the sqaure in the difference between the observed and predicted value"
   ]
  },
  {
   "cell_type": "code",
   "execution_count": null,
   "metadata": {},
   "outputs": [],
   "source": [
    "What is the p-value? How does it help in feature selection?\n",
    "\n",
    "    P-value is helps us determine how it is to get a particular results when the null hypothesis\n",
    "    is aasumed to be true."
   ]
  },
  {
   "cell_type": "code",
   "execution_count": null,
   "metadata": {},
   "outputs": [],
   "source": [
    "How to handle categorical values in the data?\n",
    "\n",
    "    For the scikit-learn library, all data must be represented numerically.\n",
    "If the feature only has two categories we can simply create a dummy variable\n",
    "that represents the categories as a combination of binary value"
   ]
  },
  {
   "cell_type": "code",
   "execution_count": null,
   "metadata": {},
   "outputs": [],
   "source": [
    "What is regularization, and why do we need it?\n",
    "\n",
    "   The regularization is the techinque discourages learning or more complex or flexible\n",
    "    model, so as to avoid the risk of overfitting. we reduce the magnitude of feature by \n",
    "    keeping the same number of features.\n",
    "    \n",
    "    It is used when we want to reduce the variance."
   ]
  },
  {
   "cell_type": "code",
   "execution_count": null,
   "metadata": {},
   "outputs": [],
   "source": [
    "Explain Ridge Regression.\n",
    "\n",
    "    In this technique the cost function is alterd by adding the penalty term to it.\n",
    "    The amount of bais added to the model is called as Ridge Regression.\n",
    "    we can calculate it by using multiple with lambda to the sqared weight of each individual feature.\n",
    "    It is also called as L2 regression."
   ]
  },
  {
   "cell_type": "code",
   "execution_count": null,
   "metadata": {},
   "outputs": [],
   "source": [
    "Explain Lasso Regression.\n",
    "\n",
    "    Lasso stand for Least Absolute And Selection Operator.\n",
    "    It is similar to the Ridge Regression Except that the penalty term contain only\n",
    "    the absolute weight instead of a square of weight.\n",
    "    It reduce the overfitting in the model.\n",
    "    And it is also called as L1 regression"
   ]
  },
  {
   "cell_type": "code",
   "execution_count": null,
   "metadata": {},
   "outputs": [],
   "source": [
    "Explain Elastic Net.\n",
    "\n",
    "   It is a combination of Ridge and Lasso regression"
   ]
  },
  {
   "cell_type": "code",
   "execution_count": null,
   "metadata": {},
   "outputs": [],
   "source": [
    "Why do we do a train test split?\n",
    "\n",
    "   The procedure involves taking a dataset and dividing it into two subset.\n",
    "    The first is used to fit the model and is referred to as the training dataset.\n",
    "    The second subset is not used the model instead the input elements of the \n",
    "    datasetis provided to the model."
   ]
  },
  {
   "cell_type": "code",
   "execution_count": null,
   "metadata": {},
   "outputs": [],
   "source": [
    "What is polynomial regression? When to use it?\n",
    "\n",
    "   If equation degreen is more than one then this replationship will br polynomial regression.\n",
    "    Polynomial Regression can be defined as a mechanism to predict a dependent variable based\n",
    "    on the polynomial relationship with the independent variable.\n",
    "    𝑦=𝑎+𝑏𝑥+𝑐𝑥2+...+𝑛𝑥𝑛+...\n",
    "    \n",
    "    Whenever their is polynomial kind of relationship dependents and independent variable\n",
    "    then we can use this polynomail regression.And In this regression data shows in curve form"
   ]
  }
 ],
 "metadata": {
  "kernelspec": {
   "display_name": "Python 3",
   "language": "python",
   "name": "python3"
  },
  "language_info": {
   "codemirror_mode": {
    "name": "ipython",
    "version": 3
   },
   "file_extension": ".py",
   "mimetype": "text/x-python",
   "name": "python",
   "nbconvert_exporter": "python",
   "pygments_lexer": "ipython3",
   "version": "3.8.5"
  }
 },
 "nbformat": 4,
 "nbformat_minor": 4
}
